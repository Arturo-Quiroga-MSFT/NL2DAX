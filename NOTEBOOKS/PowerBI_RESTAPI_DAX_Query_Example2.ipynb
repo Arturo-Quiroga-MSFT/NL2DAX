{
 "cells": [
  {
   "cell_type": "markdown",
   "id": "0a2efe24",
   "metadata": {},
   "source": [
    "# Running DAX Queries Against a Power BI Semantic Model via REST API\n",
    "\n",
    "This notebook demonstrates how to execute DAX queries against a Power BI dataset (semantic model) using the Power BI REST API. This requires a Premium or PPU workspace and an XMLA endpoint."
   ]
  },
  {
   "cell_type": "markdown",
   "id": "2271514e",
   "metadata": {},
   "source": [
    "## Prerequisites\n",
    "- Power BI workspace with Premium or PPU capacity\n",
    "- Dataset published to the workspace\n",
    "- Azure AD App Registration with Dataset.Read.All permission\n",
    "- Client secret or certificate for authentication\n",
    "- Python (requests, msal)"
   ]
  },
  {
   "cell_type": "markdown",
   "id": "d414ebd5",
   "metadata": {},
   "source": [
    "## 1. Get Access Token\n",
    "Use MSAL to authenticate and obtain an OAuth2 token for Power BI REST API."
   ]
  },
  {
   "cell_type": "code",
   "execution_count": 1,
   "id": "5e866c6e",
   "metadata": {},
   "outputs": [
    {
     "name": "stdout",
     "output_type": "stream",
     "text": [
      "Environment Variables:\n",
      "TENANT_ID: a172a259-b1c7-4944-b2e1-6d551f954711\n",
      "CLIENT_ID: 20c5495d-b98c-410b-aa7b-9ea13dd70f61\n",
      "CLIENT_SECRET: q-88Q~Zb_kYksiYkYI2VaCBM4JBF~7ozRfB5dcFU\n",
      "Acquiring token...\n"
     ]
    },
    {
     "ename": "ValueError",
     "evalue": "Unable to get authority configuration for https://login.microsoftonline.com/a172a259-b1c7-4944-b2e1-6d551f954711/v2.0. Authority would typically be in a format of https://login.microsoftonline.com/your_tenant or https://tenant_name.ciamlogin.com or https://tenant_name.b2clogin.com/tenant.onmicrosoft.com/policy.  Also please double check your tenant name or GUID is correct.",
     "output_type": "error",
     "traceback": [
      "\u001b[31m---------------------------------------------------------------------------\u001b[39m",
      "\u001b[31mValueError\u001b[39m                                Traceback (most recent call last)",
      "\u001b[36mFile \u001b[39m\u001b[32m~/GITHUB/NL2DAX/.venv/lib/python3.12/site-packages/msal/authority.py:79\u001b[39m, in \u001b[36mAuthority.__init__\u001b[39m\u001b[34m(self, authority_url, http_client, validate_authority, instance_discovery, oidc_authority_url)\u001b[39m\n\u001b[32m     78\u001b[39m \u001b[38;5;28;01mtry\u001b[39;00m:\n\u001b[32m---> \u001b[39m\u001b[32m79\u001b[39m     openid_config = \u001b[43mtenant_discovery\u001b[49m\u001b[43m(\u001b[49m\n\u001b[32m     80\u001b[39m \u001b[43m        \u001b[49m\u001b[43mtenant_discovery_endpoint\u001b[49m\u001b[43m,\u001b[49m\n\u001b[32m     81\u001b[39m \u001b[43m        \u001b[49m\u001b[38;5;28;43mself\u001b[39;49m\u001b[43m.\u001b[49m\u001b[43m_http_client\u001b[49m\u001b[43m)\u001b[49m\n\u001b[32m     82\u001b[39m \u001b[38;5;28;01mexcept\u001b[39;00m \u001b[38;5;167;01mValueError\u001b[39;00m:\n",
      "\u001b[36mFile \u001b[39m\u001b[32m~/GITHUB/NL2DAX/.venv/lib/python3.12/site-packages/msal/authority.py:216\u001b[39m, in \u001b[36mtenant_discovery\u001b[39m\u001b[34m(tenant_discovery_endpoint, http_client, **kwargs)\u001b[39m\n\u001b[32m    213\u001b[39m \u001b[38;5;28;01mif\u001b[39;00m \u001b[32m400\u001b[39m <= resp.status_code < \u001b[32m500\u001b[39m:\n\u001b[32m    214\u001b[39m     \u001b[38;5;66;03m# Nonexist tenant would hit this path\u001b[39;00m\n\u001b[32m    215\u001b[39m     \u001b[38;5;66;03m# e.g. https://login.microsoftonline.com/nonexist_tenant/v2.0/.well-known/openid-configuration\u001b[39;00m\n\u001b[32m--> \u001b[39m\u001b[32m216\u001b[39m     \u001b[38;5;28;01mraise\u001b[39;00m \u001b[38;5;167;01mValueError\u001b[39;00m(\u001b[33m\"\u001b[39m\u001b[33mOIDC Discovery failed on \u001b[39m\u001b[38;5;132;01m{}\u001b[39;00m\u001b[33m. HTTP status: \u001b[39m\u001b[38;5;132;01m{}\u001b[39;00m\u001b[33m, Error: \u001b[39m\u001b[38;5;132;01m{}\u001b[39;00m\u001b[33m\"\u001b[39m.format(\n\u001b[32m    217\u001b[39m         tenant_discovery_endpoint,\n\u001b[32m    218\u001b[39m         resp.status_code,\n\u001b[32m    219\u001b[39m         resp.text,  \u001b[38;5;66;03m# Expose it as-is b/c OIDC defines no error response format\u001b[39;00m\n\u001b[32m    220\u001b[39m         ))\n\u001b[32m    221\u001b[39m \u001b[38;5;66;03m# Transient network error would hit this path\u001b[39;00m\n",
      "\u001b[31mValueError\u001b[39m: OIDC Discovery failed on https://login.microsoftonline.com/a172a259-b1c7-4944-b2e1-6d551f954711/v2.0/v2.0/.well-known/openid-configuration. HTTP status: 404, Error: ",
      "\nDuring handling of the above exception, another exception occurred:\n",
      "\u001b[31mValueError\u001b[39m                                Traceback (most recent call last)",
      "\u001b[36mCell\u001b[39m\u001b[36m \u001b[39m\u001b[32mIn[1]\u001b[39m\u001b[32m, line 22\u001b[39m\n\u001b[32m     18\u001b[39m \u001b[38;5;28mprint\u001b[39m(\u001b[33mf\u001b[39m\u001b[33m\"\u001b[39m\u001b[33mCLIENT_SECRET: \u001b[39m\u001b[38;5;132;01m{\u001b[39;00mCLIENT_SECRET\u001b[38;5;132;01m}\u001b[39;00m\u001b[33m\"\u001b[39m)\n\u001b[32m     20\u001b[39m \u001b[38;5;28mprint\u001b[39m(\u001b[33m\"\u001b[39m\u001b[33mAcquiring token...\u001b[39m\u001b[33m\"\u001b[39m)\n\u001b[32m---> \u001b[39m\u001b[32m22\u001b[39m app = \u001b[43mConfidentialClientApplication\u001b[49m\u001b[43m(\u001b[49m\n\u001b[32m     23\u001b[39m \u001b[43m    \u001b[49m\u001b[43mCLIENT_ID\u001b[49m\u001b[43m,\u001b[49m\u001b[43m \u001b[49m\u001b[43mauthority\u001b[49m\u001b[43m=\u001b[49m\u001b[43mAUTHORITY\u001b[49m\u001b[43m,\u001b[49m\u001b[43m \u001b[49m\u001b[43mclient_credential\u001b[49m\u001b[43m=\u001b[49m\u001b[43mCLIENT_SECRET\u001b[49m\n\u001b[32m     24\u001b[39m \u001b[43m)\u001b[49m\n\u001b[32m     25\u001b[39m token_response = app.acquire_token_for_client(scopes=SCOPE)\n\u001b[32m     26\u001b[39m access_token = token_response[\u001b[33m'\u001b[39m\u001b[33maccess_token\u001b[39m\u001b[33m'\u001b[39m]\n",
      "\u001b[36mFile \u001b[39m\u001b[32m~/GITHUB/NL2DAX/.venv/lib/python3.12/site-packages/msal/application.py:645\u001b[39m, in \u001b[36mClientApplication.__init__\u001b[39m\u001b[34m(self, client_id, client_credential, authority, validate_authority, token_cache, http_client, verify, proxies, timeout, client_claims, app_name, app_version, client_capabilities, azure_region, exclude_scopes, http_cache, instance_discovery, allow_broker, enable_pii_log, oidc_authority)\u001b[39m\n\u001b[32m    643\u001b[39m \u001b[38;5;28;01mtry\u001b[39;00m:\n\u001b[32m    644\u001b[39m     authority_to_use = authority \u001b[38;5;129;01mor\u001b[39;00m \u001b[33m\"\u001b[39m\u001b[33mhttps://\u001b[39m\u001b[38;5;132;01m{}\u001b[39;00m\u001b[33m/common/\u001b[39m\u001b[33m\"\u001b[39m.format(WORLD_WIDE)\n\u001b[32m--> \u001b[39m\u001b[32m645\u001b[39m     \u001b[38;5;28mself\u001b[39m.authority = \u001b[43mAuthority\u001b[49m\u001b[43m(\u001b[49m\n\u001b[32m    646\u001b[39m \u001b[43m        \u001b[49m\u001b[43mauthority_to_use\u001b[49m\u001b[43m,\u001b[49m\n\u001b[32m    647\u001b[39m \u001b[43m        \u001b[49m\u001b[38;5;28;43mself\u001b[39;49m\u001b[43m.\u001b[49m\u001b[43mhttp_client\u001b[49m\u001b[43m,\u001b[49m\n\u001b[32m    648\u001b[39m \u001b[43m        \u001b[49m\u001b[43mvalidate_authority\u001b[49m\u001b[43m=\u001b[49m\u001b[43mvalidate_authority\u001b[49m\u001b[43m,\u001b[49m\n\u001b[32m    649\u001b[39m \u001b[43m        \u001b[49m\u001b[43minstance_discovery\u001b[49m\u001b[43m=\u001b[49m\u001b[38;5;28;43mself\u001b[39;49m\u001b[43m.\u001b[49m\u001b[43m_instance_discovery\u001b[49m\u001b[43m,\u001b[49m\n\u001b[32m    650\u001b[39m \u001b[43m        \u001b[49m\u001b[43moidc_authority_url\u001b[49m\u001b[43m=\u001b[49m\u001b[43moidc_authority\u001b[49m\u001b[43m,\u001b[49m\n\u001b[32m    651\u001b[39m \u001b[43m        \u001b[49m\u001b[43m)\u001b[49m\n\u001b[32m    652\u001b[39m \u001b[38;5;28;01mexcept\u001b[39;00m \u001b[38;5;167;01mValueError\u001b[39;00m:  \u001b[38;5;66;03m# Those are explicit authority validation errors\u001b[39;00m\n\u001b[32m    653\u001b[39m     \u001b[38;5;28;01mraise\u001b[39;00m\n",
      "\u001b[36mFile \u001b[39m\u001b[32m~/GITHUB/NL2DAX/.venv/lib/python3.12/site-packages/msal/authority.py:95\u001b[39m, in \u001b[36mAuthority.__init__\u001b[39m\u001b[34m(self, authority_url, http_client, validate_authority, instance_discovery, oidc_authority_url)\u001b[39m\n\u001b[32m     82\u001b[39m \u001b[38;5;28;01mexcept\u001b[39;00m \u001b[38;5;167;01mValueError\u001b[39;00m:\n\u001b[32m     83\u001b[39m     error_message = (\n\u001b[32m     84\u001b[39m         \u001b[33m\"\u001b[39m\u001b[33mUnable to get OIDC authority configuration for \u001b[39m\u001b[38;5;132;01m{url}\u001b[39;00m\u001b[33m \u001b[39m\u001b[33m\"\u001b[39m\n\u001b[32m     85\u001b[39m         \u001b[33m\"\u001b[39m\u001b[33mbecause its OIDC Discovery endpoint is unavailable at \u001b[39m\u001b[33m\"\u001b[39m\n\u001b[32m   (...)\u001b[39m\u001b[32m     93\u001b[39m         .format(authority_url)\n\u001b[32m     94\u001b[39m         ) + \u001b[33m\"\u001b[39m\u001b[33m Also please double check your tenant name or GUID is correct.\u001b[39m\u001b[33m\"\u001b[39m\n\u001b[32m---> \u001b[39m\u001b[32m95\u001b[39m     \u001b[38;5;28;01mraise\u001b[39;00m \u001b[38;5;167;01mValueError\u001b[39;00m(error_message)\n\u001b[32m     96\u001b[39m logger.debug(\n\u001b[32m     97\u001b[39m     \u001b[33m'\u001b[39m\u001b[33mopenid_config(\u001b[39m\u001b[33m\"\u001b[39m\u001b[38;5;132;01m%s\u001b[39;00m\u001b[33m\"\u001b[39m\u001b[33m) = \u001b[39m\u001b[38;5;132;01m%s\u001b[39;00m\u001b[33m'\u001b[39m, tenant_discovery_endpoint, openid_config)\n\u001b[32m     98\u001b[39m \u001b[38;5;28mself\u001b[39m.authorization_endpoint = openid_config[\u001b[33m'\u001b[39m\u001b[33mauthorization_endpoint\u001b[39m\u001b[33m'\u001b[39m]\n",
      "\u001b[31mValueError\u001b[39m: Unable to get authority configuration for https://login.microsoftonline.com/a172a259-b1c7-4944-b2e1-6d551f954711/v2.0. Authority would typically be in a format of https://login.microsoftonline.com/your_tenant or https://tenant_name.ciamlogin.com or https://tenant_name.b2clogin.com/tenant.onmicrosoft.com/policy.  Also please double check your tenant name or GUID is correct."
     ]
    }
   ],
   "source": [
    "from msal import ConfidentialClientApplication\n",
    "import os\n",
    "from dotenv import load_dotenv\n",
    "\n",
    "# Load environment variables from .env file\n",
    "load_dotenv('./../CODE/.env')\n",
    "\n",
    "TENANT_ID = os.getenv('TENANT_ID')\n",
    "CLIENT_ID = os.getenv('CLIENT_ID')\n",
    "CLIENT_SECRET = os.getenv('CLIENT_SECRET')\n",
    "AUTHORITY = f'https://login.microsoftonline.com/{TENANT_ID}/v2.0'\n",
    "SCOPE = ['https://analysis.windows.net/powerbi/api/.default']\n",
    "\n",
    "# print the environment variables\n",
    "print(\"Environment Variables:\")\n",
    "print(f\"TENANT_ID: {TENANT_ID}\")\n",
    "print(f\"CLIENT_ID: {CLIENT_ID}\")\n",
    "print(f\"CLIENT_SECRET: {CLIENT_SECRET}\")\n",
    "\n",
    "print(\"Acquiring token...\")\n",
    "\n",
    "app = ConfidentialClientApplication(\n",
    "    CLIENT_ID, authority=AUTHORITY, client_credential=CLIENT_SECRET\n",
    ")\n",
    "token_response = app.acquire_token_for_client(scopes=SCOPE)\n",
    "access_token = token_response['access_token']\n",
    "print('Access token acquired.')"
   ]
  },
  {
   "cell_type": "markdown",
   "id": "7a9baf8a",
   "metadata": {},
   "source": [
    "## 2. Set Workspace and Dataset IDs\n",
    "Find these in the Power BI portal URL for your dataset."
   ]
  },
  {
   "cell_type": "code",
   "execution_count": null,
   "id": "1dbd3cf0",
   "metadata": {},
   "outputs": [],
   "source": [
    "workspace_id = 'YOUR_WORKSPACE_ID'\n",
    "dataset_id = 'YOUR_DATASET_ID'"
   ]
  },
  {
   "cell_type": "markdown",
   "id": "9743456c",
   "metadata": {},
   "source": [
    "## 3. Run a DAX Query Using the Execute Queries API\n",
    "Replace the DAX query string with your own."
   ]
  },
  {
   "cell_type": "code",
   "execution_count": null,
   "id": "697c2aac",
   "metadata": {},
   "outputs": [],
   "source": [
    "import requests\n",
    "\n",
    "dax_query = 'EVALUATE ROW(\"Test\", 1+1)'  # Replace with your DAX\n",
    "url = f'https://api.powerbi.com/v1.0/myorg/groups/{workspace_id}/datasets/{dataset_id}/executeQueries'\n",
    "headers = {\n",
    "    'Authorization': f'Bearer {access_token}',\n",
    "    'Content-Type': 'application/json'\n",
    "}\n",
    "body = {\n",
    "    'queries': [{ 'query': dax_query }],\n",
    "    'serializerSettings': { 'includeNulls': True }\n",
    "}\n",
    "response = requests.post(url, headers=headers, json=body)\n",
    "print(response.json())"
   ]
  },
  {
   "cell_type": "markdown",
   "id": "359825b4",
   "metadata": {},
   "source": [
    "## 4. Parse and Display Results\n",
    "The response will contain the results of your DAX query in JSON format."
   ]
  },
  {
   "cell_type": "code",
   "execution_count": null,
   "id": "bd696069",
   "metadata": {},
   "outputs": [],
   "source": [
    "result = response.json()\n",
    "# Example: print the first table\n",
    "if 'results' in result and result['results'] and 'tables' in result['results'][0]:\n",
    "    table = result['results'][0]['tables'][0]\n",
    "    print('Columns:', [col['name'] for col in table['columns']])\n",
    "    for row in table['rows']:\n",
    "        print(row)\n",
    "else:\n",
    "    print('No results or error:', result)"
   ]
  }
 ],
 "metadata": {
  "kernelspec": {
   "display_name": ".venv (3.12.11)",
   "language": "python",
   "name": "python3"
  },
  "language_info": {
   "codemirror_mode": {
    "name": "ipython",
    "version": 3
   },
   "file_extension": ".py",
   "mimetype": "text/x-python",
   "name": "python",
   "nbconvert_exporter": "python",
   "pygments_lexer": "ipython3",
   "version": "3.12.11"
  }
 },
 "nbformat": 4,
 "nbformat_minor": 5
}
